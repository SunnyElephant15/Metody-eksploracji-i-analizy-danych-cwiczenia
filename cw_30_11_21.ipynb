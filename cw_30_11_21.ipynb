{
  "nbformat": 4,
  "nbformat_minor": 0,
  "metadata": {
    "colab": {
      "name": "30.11.21_Krzysztof_Graboń.ipynb",
      "provenance": [],
      "collapsed_sections": []
    },
    "kernelspec": {
      "name": "python3",
      "display_name": "Python 3"
    },
    "language_info": {
      "name": "python"
    }
  },
  "cells": [
    {
      "cell_type": "code",
      "metadata": {
        "colab": {
          "base_uri": "https://localhost:8080/"
        },
        "id": "EjHE8IubnbW3",
        "outputId": "6070ffe3-18b8-496a-fe09-50efde946f40"
      },
      "source": [
        "!pip install 'statsmodels<=0.12.1'\n",
        "!pip install sktime"
      ],
      "execution_count": 4,
      "outputs": [
        {
          "output_type": "stream",
          "name": "stdout",
          "text": [
            "Collecting statsmodels<=0.12.1\n",
            "  Downloading statsmodels-0.12.1-cp37-cp37m-manylinux1_x86_64.whl (9.5 MB)\n",
            "\u001b[K     |████████████████████████████████| 9.5 MB 3.9 MB/s \n",
            "\u001b[?25hRequirement already satisfied: numpy>=1.15 in /usr/local/lib/python3.7/dist-packages (from statsmodels<=0.12.1) (1.19.5)\n",
            "Requirement already satisfied: pandas>=0.21 in /usr/local/lib/python3.7/dist-packages (from statsmodels<=0.12.1) (1.1.5)\n",
            "Requirement already satisfied: scipy>=1.1 in /usr/local/lib/python3.7/dist-packages (from statsmodels<=0.12.1) (1.4.1)\n",
            "Requirement already satisfied: patsy>=0.5 in /usr/local/lib/python3.7/dist-packages (from statsmodels<=0.12.1) (0.5.2)\n",
            "Requirement already satisfied: pytz>=2017.2 in /usr/local/lib/python3.7/dist-packages (from pandas>=0.21->statsmodels<=0.12.1) (2018.9)\n",
            "Requirement already satisfied: python-dateutil>=2.7.3 in /usr/local/lib/python3.7/dist-packages (from pandas>=0.21->statsmodels<=0.12.1) (2.8.2)\n",
            "Requirement already satisfied: six in /usr/local/lib/python3.7/dist-packages (from patsy>=0.5->statsmodels<=0.12.1) (1.15.0)\n",
            "Installing collected packages: statsmodels\n",
            "  Attempting uninstall: statsmodels\n",
            "    Found existing installation: statsmodels 0.13.1\n",
            "    Uninstalling statsmodels-0.13.1:\n",
            "      Successfully uninstalled statsmodels-0.13.1\n",
            "Successfully installed statsmodels-0.12.1\n",
            "Requirement already satisfied: sktime in /usr/local/lib/python3.7/dist-packages (0.8.1)\n",
            "Requirement already satisfied: wheel in /usr/local/lib/python3.7/dist-packages (from sktime) (0.37.0)\n",
            "Requirement already satisfied: pandas>=1.1.0 in /usr/local/lib/python3.7/dist-packages (from sktime) (1.1.5)\n",
            "Requirement already satisfied: numba>=0.53 in /usr/local/lib/python3.7/dist-packages (from sktime) (0.54.1)\n",
            "Requirement already satisfied: statsmodels<=0.12.1 in /usr/local/lib/python3.7/dist-packages (from sktime) (0.12.1)\n",
            "Requirement already satisfied: numpy>=1.19.3 in /usr/local/lib/python3.7/dist-packages (from sktime) (1.19.5)\n",
            "Requirement already satisfied: scikit-learn>=0.24.0 in /usr/local/lib/python3.7/dist-packages (from sktime) (1.0.1)\n",
            "Requirement already satisfied: llvmlite<0.38,>=0.37.0rc1 in /usr/local/lib/python3.7/dist-packages (from numba>=0.53->sktime) (0.37.0)\n",
            "Requirement already satisfied: setuptools in /usr/local/lib/python3.7/dist-packages (from numba>=0.53->sktime) (57.4.0)\n",
            "Requirement already satisfied: python-dateutil>=2.7.3 in /usr/local/lib/python3.7/dist-packages (from pandas>=1.1.0->sktime) (2.8.2)\n",
            "Requirement already satisfied: pytz>=2017.2 in /usr/local/lib/python3.7/dist-packages (from pandas>=1.1.0->sktime) (2018.9)\n",
            "Requirement already satisfied: six>=1.5 in /usr/local/lib/python3.7/dist-packages (from python-dateutil>=2.7.3->pandas>=1.1.0->sktime) (1.15.0)\n",
            "Requirement already satisfied: scipy>=1.1.0 in /usr/local/lib/python3.7/dist-packages (from scikit-learn>=0.24.0->sktime) (1.4.1)\n",
            "Requirement already satisfied: joblib>=0.11 in /usr/local/lib/python3.7/dist-packages (from scikit-learn>=0.24.0->sktime) (1.1.0)\n",
            "Requirement already satisfied: threadpoolctl>=2.0.0 in /usr/local/lib/python3.7/dist-packages (from scikit-learn>=0.24.0->sktime) (3.0.0)\n",
            "Requirement already satisfied: patsy>=0.5 in /usr/local/lib/python3.7/dist-packages (from statsmodels<=0.12.1->sktime) (0.5.2)\n"
          ]
        }
      ]
    },
    {
      "cell_type": "code",
      "metadata": {
        "id": "nni-IiArnOfS"
      },
      "source": [
        "#ruch cen akcji na giełdzie\n",
        "import pandas as pd\n",
        "import numpy as np\n",
        "from sktime.datasets import load_airline\n",
        "from sktime.forecasting.base import ForecastingHorizon\n",
        "from sktime.forecasting.model_selection import temporal_train_test_split\n",
        "from sktime.performance_metrics.forecasting import mean_absolute_percentage_error\n",
        "from sktime.utils.plotting import plot_series\n",
        "\n",
        "y1 = pd.read_csv('PEKAO.mst')\n",
        "#stopa zwrotu log(C[t]) - log(C[t-1]) = log(C[t]/C[t-1])\n",
        "#średnie kroczące funkcja pandas rolling"
      ],
      "execution_count": 20,
      "outputs": []
    },
    {
      "cell_type": "code",
      "metadata": {
        "id": "X-QN3nJonRby"
      },
      "source": [
        "open = y1[['<OPEN>']]\n",
        "close = y1[['<CLOSE>']]"
      ],
      "execution_count": 21,
      "outputs": []
    },
    {
      "cell_type": "code",
      "metadata": {
        "colab": {
          "base_uri": "https://localhost:8080/",
          "height": 424
        },
        "id": "V3P5gG-Os1xH",
        "outputId": "ff86794a-7923-4bca-e77d-78e83b60f6c4"
      },
      "source": [
        "y1"
      ],
      "execution_count": 31,
      "outputs": [
        {
          "output_type": "execute_result",
          "data": {
            "text/html": [
              "<div>\n",
              "<style scoped>\n",
              "    .dataframe tbody tr th:only-of-type {\n",
              "        vertical-align: middle;\n",
              "    }\n",
              "\n",
              "    .dataframe tbody tr th {\n",
              "        vertical-align: top;\n",
              "    }\n",
              "\n",
              "    .dataframe thead th {\n",
              "        text-align: right;\n",
              "    }\n",
              "</style>\n",
              "<table border=\"1\" class=\"dataframe\">\n",
              "  <thead>\n",
              "    <tr style=\"text-align: right;\">\n",
              "      <th></th>\n",
              "      <th>&lt;TICKER&gt;</th>\n",
              "      <th>&lt;DTYYYYMMDD&gt;</th>\n",
              "      <th>&lt;OPEN&gt;</th>\n",
              "      <th>&lt;HIGH&gt;</th>\n",
              "      <th>&lt;LOW&gt;</th>\n",
              "      <th>&lt;CLOSE&gt;</th>\n",
              "      <th>&lt;VOL&gt;</th>\n",
              "    </tr>\n",
              "  </thead>\n",
              "  <tbody>\n",
              "    <tr>\n",
              "      <th>0</th>\n",
              "      <td>PEKAO</td>\n",
              "      <td>19980630</td>\n",
              "      <td>55.00</td>\n",
              "      <td>55.00</td>\n",
              "      <td>55.00</td>\n",
              "      <td>55.00</td>\n",
              "      <td>560360</td>\n",
              "    </tr>\n",
              "    <tr>\n",
              "      <th>1</th>\n",
              "      <td>PEKAO</td>\n",
              "      <td>19980701</td>\n",
              "      <td>58.50</td>\n",
              "      <td>58.50</td>\n",
              "      <td>58.50</td>\n",
              "      <td>58.50</td>\n",
              "      <td>651436</td>\n",
              "    </tr>\n",
              "    <tr>\n",
              "      <th>2</th>\n",
              "      <td>PEKAO</td>\n",
              "      <td>19980702</td>\n",
              "      <td>61.00</td>\n",
              "      <td>61.00</td>\n",
              "      <td>61.00</td>\n",
              "      <td>61.00</td>\n",
              "      <td>594535</td>\n",
              "    </tr>\n",
              "    <tr>\n",
              "      <th>3</th>\n",
              "      <td>PEKAO</td>\n",
              "      <td>19980703</td>\n",
              "      <td>58.50</td>\n",
              "      <td>58.50</td>\n",
              "      <td>58.50</td>\n",
              "      <td>58.50</td>\n",
              "      <td>849970</td>\n",
              "    </tr>\n",
              "    <tr>\n",
              "      <th>4</th>\n",
              "      <td>PEKAO</td>\n",
              "      <td>19980706</td>\n",
              "      <td>58.50</td>\n",
              "      <td>58.50</td>\n",
              "      <td>58.50</td>\n",
              "      <td>58.50</td>\n",
              "      <td>394699</td>\n",
              "    </tr>\n",
              "    <tr>\n",
              "      <th>...</th>\n",
              "      <td>...</td>\n",
              "      <td>...</td>\n",
              "      <td>...</td>\n",
              "      <td>...</td>\n",
              "      <td>...</td>\n",
              "      <td>...</td>\n",
              "      <td>...</td>\n",
              "    </tr>\n",
              "    <tr>\n",
              "      <th>5860</th>\n",
              "      <td>PEKAO</td>\n",
              "      <td>20211123</td>\n",
              "      <td>119.30</td>\n",
              "      <td>121.80</td>\n",
              "      <td>117.20</td>\n",
              "      <td>121.30</td>\n",
              "      <td>2227796</td>\n",
              "    </tr>\n",
              "    <tr>\n",
              "      <th>5861</th>\n",
              "      <td>PEKAO</td>\n",
              "      <td>20211124</td>\n",
              "      <td>121.40</td>\n",
              "      <td>122.50</td>\n",
              "      <td>119.20</td>\n",
              "      <td>120.35</td>\n",
              "      <td>1338141</td>\n",
              "    </tr>\n",
              "    <tr>\n",
              "      <th>5862</th>\n",
              "      <td>PEKAO</td>\n",
              "      <td>20211125</td>\n",
              "      <td>121.00</td>\n",
              "      <td>122.25</td>\n",
              "      <td>119.60</td>\n",
              "      <td>121.00</td>\n",
              "      <td>347505</td>\n",
              "    </tr>\n",
              "    <tr>\n",
              "      <th>5863</th>\n",
              "      <td>PEKAO</td>\n",
              "      <td>20211126</td>\n",
              "      <td>117.85</td>\n",
              "      <td>117.85</td>\n",
              "      <td>111.75</td>\n",
              "      <td>112.40</td>\n",
              "      <td>1078008</td>\n",
              "    </tr>\n",
              "    <tr>\n",
              "      <th>5864</th>\n",
              "      <td>PEKAO</td>\n",
              "      <td>20211129</td>\n",
              "      <td>113.00</td>\n",
              "      <td>116.95</td>\n",
              "      <td>110.30</td>\n",
              "      <td>116.00</td>\n",
              "      <td>1034462</td>\n",
              "    </tr>\n",
              "  </tbody>\n",
              "</table>\n",
              "<p>5865 rows × 7 columns</p>\n",
              "</div>"
            ],
            "text/plain": [
              "     <TICKER>  <DTYYYYMMDD>  <OPEN>  <HIGH>   <LOW>  <CLOSE>    <VOL>\n",
              "0       PEKAO      19980630   55.00   55.00   55.00    55.00   560360\n",
              "1       PEKAO      19980701   58.50   58.50   58.50    58.50   651436\n",
              "2       PEKAO      19980702   61.00   61.00   61.00    61.00   594535\n",
              "3       PEKAO      19980703   58.50   58.50   58.50    58.50   849970\n",
              "4       PEKAO      19980706   58.50   58.50   58.50    58.50   394699\n",
              "...       ...           ...     ...     ...     ...      ...      ...\n",
              "5860    PEKAO      20211123  119.30  121.80  117.20   121.30  2227796\n",
              "5861    PEKAO      20211124  121.40  122.50  119.20   120.35  1338141\n",
              "5862    PEKAO      20211125  121.00  122.25  119.60   121.00   347505\n",
              "5863    PEKAO      20211126  117.85  117.85  111.75   112.40  1078008\n",
              "5864    PEKAO      20211129  113.00  116.95  110.30   116.00  1034462\n",
              "\n",
              "[5865 rows x 7 columns]"
            ]
          },
          "metadata": {},
          "execution_count": 31
        }
      ]
    },
    {
      "cell_type": "code",
      "metadata": {
        "colab": {
          "base_uri": "https://localhost:8080/",
          "height": 424
        },
        "id": "sgZ2RRC7uMM6",
        "outputId": "1ff80149-464d-44d8-dacf-8af2dcb4ac33"
      },
      "source": [
        "open"
      ],
      "execution_count": 46,
      "outputs": [
        {
          "output_type": "execute_result",
          "data": {
            "text/html": [
              "<div>\n",
              "<style scoped>\n",
              "    .dataframe tbody tr th:only-of-type {\n",
              "        vertical-align: middle;\n",
              "    }\n",
              "\n",
              "    .dataframe tbody tr th {\n",
              "        vertical-align: top;\n",
              "    }\n",
              "\n",
              "    .dataframe thead th {\n",
              "        text-align: right;\n",
              "    }\n",
              "</style>\n",
              "<table border=\"1\" class=\"dataframe\">\n",
              "  <thead>\n",
              "    <tr style=\"text-align: right;\">\n",
              "      <th></th>\n",
              "      <th>&lt;OPEN&gt;</th>\n",
              "    </tr>\n",
              "  </thead>\n",
              "  <tbody>\n",
              "    <tr>\n",
              "      <th>0</th>\n",
              "      <td>55.00</td>\n",
              "    </tr>\n",
              "    <tr>\n",
              "      <th>1</th>\n",
              "      <td>58.50</td>\n",
              "    </tr>\n",
              "    <tr>\n",
              "      <th>2</th>\n",
              "      <td>61.00</td>\n",
              "    </tr>\n",
              "    <tr>\n",
              "      <th>3</th>\n",
              "      <td>58.50</td>\n",
              "    </tr>\n",
              "    <tr>\n",
              "      <th>4</th>\n",
              "      <td>58.50</td>\n",
              "    </tr>\n",
              "    <tr>\n",
              "      <th>...</th>\n",
              "      <td>...</td>\n",
              "    </tr>\n",
              "    <tr>\n",
              "      <th>5860</th>\n",
              "      <td>119.30</td>\n",
              "    </tr>\n",
              "    <tr>\n",
              "      <th>5861</th>\n",
              "      <td>121.40</td>\n",
              "    </tr>\n",
              "    <tr>\n",
              "      <th>5862</th>\n",
              "      <td>121.00</td>\n",
              "    </tr>\n",
              "    <tr>\n",
              "      <th>5863</th>\n",
              "      <td>117.85</td>\n",
              "    </tr>\n",
              "    <tr>\n",
              "      <th>5864</th>\n",
              "      <td>113.00</td>\n",
              "    </tr>\n",
              "  </tbody>\n",
              "</table>\n",
              "<p>5865 rows × 1 columns</p>\n",
              "</div>"
            ],
            "text/plain": [
              "      <OPEN>\n",
              "0      55.00\n",
              "1      58.50\n",
              "2      61.00\n",
              "3      58.50\n",
              "4      58.50\n",
              "...      ...\n",
              "5860  119.30\n",
              "5861  121.40\n",
              "5862  121.00\n",
              "5863  117.85\n",
              "5864  113.00\n",
              "\n",
              "[5865 rows x 1 columns]"
            ]
          },
          "metadata": {},
          "execution_count": 46
        }
      ]
    },
    {
      "cell_type": "code",
      "metadata": {
        "colab": {
          "base_uri": "https://localhost:8080/",
          "height": 424
        },
        "id": "D78bb3HsuPD3",
        "outputId": "5eeccd4a-d6a5-4b32-9b07-5e1dd6078809"
      },
      "source": [
        "close"
      ],
      "execution_count": 47,
      "outputs": [
        {
          "output_type": "execute_result",
          "data": {
            "text/html": [
              "<div>\n",
              "<style scoped>\n",
              "    .dataframe tbody tr th:only-of-type {\n",
              "        vertical-align: middle;\n",
              "    }\n",
              "\n",
              "    .dataframe tbody tr th {\n",
              "        vertical-align: top;\n",
              "    }\n",
              "\n",
              "    .dataframe thead th {\n",
              "        text-align: right;\n",
              "    }\n",
              "</style>\n",
              "<table border=\"1\" class=\"dataframe\">\n",
              "  <thead>\n",
              "    <tr style=\"text-align: right;\">\n",
              "      <th></th>\n",
              "      <th>&lt;CLOSE&gt;</th>\n",
              "    </tr>\n",
              "  </thead>\n",
              "  <tbody>\n",
              "    <tr>\n",
              "      <th>0</th>\n",
              "      <td>55.00</td>\n",
              "    </tr>\n",
              "    <tr>\n",
              "      <th>1</th>\n",
              "      <td>58.50</td>\n",
              "    </tr>\n",
              "    <tr>\n",
              "      <th>2</th>\n",
              "      <td>61.00</td>\n",
              "    </tr>\n",
              "    <tr>\n",
              "      <th>3</th>\n",
              "      <td>58.50</td>\n",
              "    </tr>\n",
              "    <tr>\n",
              "      <th>4</th>\n",
              "      <td>58.50</td>\n",
              "    </tr>\n",
              "    <tr>\n",
              "      <th>...</th>\n",
              "      <td>...</td>\n",
              "    </tr>\n",
              "    <tr>\n",
              "      <th>5860</th>\n",
              "      <td>121.30</td>\n",
              "    </tr>\n",
              "    <tr>\n",
              "      <th>5861</th>\n",
              "      <td>120.35</td>\n",
              "    </tr>\n",
              "    <tr>\n",
              "      <th>5862</th>\n",
              "      <td>121.00</td>\n",
              "    </tr>\n",
              "    <tr>\n",
              "      <th>5863</th>\n",
              "      <td>112.40</td>\n",
              "    </tr>\n",
              "    <tr>\n",
              "      <th>5864</th>\n",
              "      <td>116.00</td>\n",
              "    </tr>\n",
              "  </tbody>\n",
              "</table>\n",
              "<p>5865 rows × 1 columns</p>\n",
              "</div>"
            ],
            "text/plain": [
              "      <CLOSE>\n",
              "0       55.00\n",
              "1       58.50\n",
              "2       61.00\n",
              "3       58.50\n",
              "4       58.50\n",
              "...       ...\n",
              "5860   121.30\n",
              "5861   120.35\n",
              "5862   121.00\n",
              "5863   112.40\n",
              "5864   116.00\n",
              "\n",
              "[5865 rows x 1 columns]"
            ]
          },
          "metadata": {},
          "execution_count": 47
        }
      ]
    },
    {
      "cell_type": "code",
      "metadata": {
        "id": "nTyMCF-RnVuh"
      },
      "source": [
        "stopa = ((close[\"<CLOSE>\"]/open[\"<OPEN>\"])-1)*100"
      ],
      "execution_count": 38,
      "outputs": []
    },
    {
      "cell_type": "code",
      "metadata": {
        "id": "t2CeIK4eqlxo"
      },
      "source": [
        "stopa_log = np.log(close[\"<CLOSE>\"])/np.log(open[\"<OPEN>\"])"
      ],
      "execution_count": 36,
      "outputs": []
    },
    {
      "cell_type": "code",
      "metadata": {
        "colab": {
          "base_uri": "https://localhost:8080/"
        },
        "id": "Mab9bGB4n0PW",
        "outputId": "26140eab-4a31-480d-87da-f7d967e0ccf5"
      },
      "source": [
        "stopa_log.tail(20)"
      ],
      "execution_count": 37,
      "outputs": [
        {
          "output_type": "execute_result",
          "data": {
            "text/plain": [
              "5845    1.011648\n",
              "5846    0.996654\n",
              "5847    0.994282\n",
              "5848    1.002240\n",
              "5849    0.999684\n",
              "5850    0.998970\n",
              "5851    0.998871\n",
              "5852    0.998131\n",
              "5853    0.998939\n",
              "5854    0.999755\n",
              "5855    0.996952\n",
              "5856    0.999917\n",
              "5857    0.994300\n",
              "5858    0.995254\n",
              "5859    1.000612\n",
              "5860    1.003477\n",
              "5861    0.998190\n",
              "5862    1.000000\n",
              "5863    0.990072\n",
              "5864    1.005543\n",
              "dtype: float64"
            ]
          },
          "metadata": {},
          "execution_count": 37
        }
      ]
    },
    {
      "cell_type": "code",
      "metadata": {
        "colab": {
          "base_uri": "https://localhost:8080/"
        },
        "id": "teZGFe2ZthDx",
        "outputId": "d9b8d521-ffea-4b9f-99fe-82e2eaa978aa"
      },
      "source": [
        "stopa.tail(20)"
      ],
      "execution_count": 39,
      "outputs": [
        {
          "output_type": "execute_result",
          "data": {
            "text/plain": [
              "5845    5.780811\n",
              "5846   -1.622029\n",
              "5847   -2.749141\n",
              "5848    1.092896\n",
              "5849   -0.153846\n",
              "5850   -0.500000\n",
              "5851   -0.546448\n",
              "5852   -0.901961\n",
              "5853   -0.512416\n",
              "5854   -0.118530\n",
              "5855   -1.464187\n",
              "5856   -0.040000\n",
              "5857   -2.715655\n",
              "5858   -2.254098\n",
              "5859    0.293132\n",
              "5860    1.676446\n",
              "5861   -0.864909\n",
              "5862    0.000000\n",
              "5863   -4.624523\n",
              "5864    2.654867\n",
              "dtype: float64"
            ]
          },
          "metadata": {},
          "execution_count": 39
        }
      ]
    },
    {
      "cell_type": "code",
      "metadata": {
        "colab": {
          "base_uri": "https://localhost:8080/"
        },
        "id": "RQkArQAPoHCn",
        "outputId": "58fb7a59-aecc-46b0-80f6-e0f3a1e344d1"
      },
      "source": [
        "sredniakroczaca_stopa_log = stopa_log.rolling(15).sum()\n",
        "sredniakroczaca_stopa_log"
      ],
      "execution_count": 43,
      "outputs": [
        {
          "output_type": "execute_result",
          "data": {
            "text/plain": [
              "0             NaN\n",
              "1             NaN\n",
              "2             NaN\n",
              "3             NaN\n",
              "4             NaN\n",
              "          ...    \n",
              "5860    14.978037\n",
              "5861    14.979573\n",
              "5862    14.985292\n",
              "5863    14.973124\n",
              "5864    14.978983\n",
              "Length: 5865, dtype: float64"
            ]
          },
          "metadata": {},
          "execution_count": 43
        }
      ]
    },
    {
      "cell_type": "code",
      "metadata": {
        "colab": {
          "base_uri": "https://localhost:8080/"
        },
        "id": "A3WEu0floM_t",
        "outputId": "30e5a610-71ba-45cf-d6cd-16377578f2c1"
      },
      "source": [
        "sredniakroczaca_stopa = stopa.rolling(15).sum()\n",
        "sredniakroczaca_stopa"
      ],
      "execution_count": 44,
      "outputs": [
        {
          "output_type": "execute_result",
          "data": {
            "text/plain": [
              "0             NaN\n",
              "1             NaN\n",
              "2             NaN\n",
              "3             NaN\n",
              "4             NaN\n",
              "          ...    \n",
              "5860   -10.515837\n",
              "5861    -9.758717\n",
              "5862    -7.009577\n",
              "5863   -12.726995\n",
              "5864    -9.918282\n",
              "Length: 5865, dtype: float64"
            ]
          },
          "metadata": {},
          "execution_count": 44
        }
      ]
    },
    {
      "cell_type": "code",
      "metadata": {
        "colab": {
          "base_uri": "https://localhost:8080/",
          "height": 424
        },
        "id": "n14IEmbQuA14",
        "outputId": "ed7a45b9-fbc2-4f12-81a1-b8864184d6d4"
      },
      "source": [
        "sredniakroczaca_close = close.rolling(15).sum()\n",
        "sredniakroczaca_close"
      ],
      "execution_count": 45,
      "outputs": [
        {
          "output_type": "execute_result",
          "data": {
            "text/html": [
              "<div>\n",
              "<style scoped>\n",
              "    .dataframe tbody tr th:only-of-type {\n",
              "        vertical-align: middle;\n",
              "    }\n",
              "\n",
              "    .dataframe tbody tr th {\n",
              "        vertical-align: top;\n",
              "    }\n",
              "\n",
              "    .dataframe thead th {\n",
              "        text-align: right;\n",
              "    }\n",
              "</style>\n",
              "<table border=\"1\" class=\"dataframe\">\n",
              "  <thead>\n",
              "    <tr style=\"text-align: right;\">\n",
              "      <th></th>\n",
              "      <th>&lt;CLOSE&gt;</th>\n",
              "    </tr>\n",
              "  </thead>\n",
              "  <tbody>\n",
              "    <tr>\n",
              "      <th>0</th>\n",
              "      <td>NaN</td>\n",
              "    </tr>\n",
              "    <tr>\n",
              "      <th>1</th>\n",
              "      <td>NaN</td>\n",
              "    </tr>\n",
              "    <tr>\n",
              "      <th>2</th>\n",
              "      <td>NaN</td>\n",
              "    </tr>\n",
              "    <tr>\n",
              "      <th>3</th>\n",
              "      <td>NaN</td>\n",
              "    </tr>\n",
              "    <tr>\n",
              "      <th>4</th>\n",
              "      <td>NaN</td>\n",
              "    </tr>\n",
              "    <tr>\n",
              "      <th>...</th>\n",
              "      <td>...</td>\n",
              "    </tr>\n",
              "    <tr>\n",
              "      <th>5860</th>\n",
              "      <td>1884.30</td>\n",
              "    </tr>\n",
              "    <tr>\n",
              "      <th>5861</th>\n",
              "      <td>1874.25</td>\n",
              "    </tr>\n",
              "    <tr>\n",
              "      <th>5862</th>\n",
              "      <td>1867.90</td>\n",
              "    </tr>\n",
              "    <tr>\n",
              "      <th>5863</th>\n",
              "      <td>1850.80</td>\n",
              "    </tr>\n",
              "    <tr>\n",
              "      <th>5864</th>\n",
              "      <td>1837.00</td>\n",
              "    </tr>\n",
              "  </tbody>\n",
              "</table>\n",
              "<p>5865 rows × 1 columns</p>\n",
              "</div>"
            ],
            "text/plain": [
              "      <CLOSE>\n",
              "0         NaN\n",
              "1         NaN\n",
              "2         NaN\n",
              "3         NaN\n",
              "4         NaN\n",
              "...       ...\n",
              "5860  1884.30\n",
              "5861  1874.25\n",
              "5862  1867.90\n",
              "5863  1850.80\n",
              "5864  1837.00\n",
              "\n",
              "[5865 rows x 1 columns]"
            ]
          },
          "metadata": {},
          "execution_count": 45
        }
      ]
    }
  ]
}